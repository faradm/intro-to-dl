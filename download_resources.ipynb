{
  "nbformat": 4,
  "nbformat_minor": 0,
  "metadata": {
    "colab": {
      "name": "download_resources.ipynb",
      "version": "0.3.2",
      "provenance": []
    },
    "kernelspec": {
      "display_name": "Python 3",
      "language": "python",
      "name": "python3"
    }
  },
  "cells": [
    {
      "metadata": {
        "id": "XozypJED4jQn",
        "colab_type": "code",
        "colab": {}
      },
      "cell_type": "code",
      "source": [
        "import download_utils"
      ],
      "execution_count": 0,
      "outputs": []
    },
    {
      "metadata": {
        "id": "eom-jEAa4jRA",
        "colab_type": "text"
      },
      "cell_type": "markdown",
      "source": [
        "## Keras resources"
      ]
    },
    {
      "metadata": {
        "id": "uMGaO_eW4jRD",
        "colab_type": "code",
        "colab": {}
      },
      "cell_type": "code",
      "source": [
        "download_utils.download_all_keras_resources(\"readonly/keras/models\", \"readonly/keras/datasets\")"
      ],
      "execution_count": 0,
      "outputs": []
    },
    {
      "metadata": {
        "id": "2fQG5IPs4jRO",
        "colab_type": "text"
      },
      "cell_type": "markdown",
      "source": [
        "## Week 3 resources"
      ]
    },
    {
      "metadata": {
        "id": "e398O6In4jRU",
        "colab_type": "code",
        "colab": {}
      },
      "cell_type": "code",
      "source": [
        "download_utils.download_week_3_resources(\"readonly/week3\")"
      ],
      "execution_count": 0,
      "outputs": []
    },
    {
      "metadata": {
        "id": "fCTuQiPc4jRf",
        "colab_type": "text"
      },
      "cell_type": "markdown",
      "source": [
        "## Week 4 resources"
      ]
    },
    {
      "metadata": {
        "id": "6-XoQCk14jRi",
        "colab_type": "code",
        "colab": {}
      },
      "cell_type": "code",
      "source": [
        "download_utils.download_week_4_resources(\"readonly/week4\")"
      ],
      "execution_count": 0,
      "outputs": []
    },
    {
      "metadata": {
        "id": "86htdcY-4jRq",
        "colab_type": "text"
      },
      "cell_type": "markdown",
      "source": [
        "## Week 6 resources"
      ]
    },
    {
      "metadata": {
        "id": "-Q2bkTs54jRt",
        "colab_type": "code",
        "colab": {}
      },
      "cell_type": "code",
      "source": [
        "download_utils.download_week_6_resources(\"readonly/week6\")"
      ],
      "execution_count": 0,
      "outputs": []
    }
  ]
}